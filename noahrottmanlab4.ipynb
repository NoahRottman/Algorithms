{
 "cells": [
  {
   "cell_type": "code",
   "execution_count": 21,
   "metadata": {},
   "outputs": [],
   "source": [
    "import numpy as np\n",
    "import os\n",
    "import matplotlib.pyplot as plt\n",
    "import random"
   ]
  },
  {
   "cell_type": "code",
   "execution_count": 24,
   "metadata": {},
   "outputs": [],
   "source": [
    "def data():\n",
    "#the data is in the same directory as this program\n",
    "#merge data into 2 arrays\n",
    "#of the form (start, finish) for start1 and finish1 \n",
    "#and the same for start2 and finish2\n",
    "    times_1 = np.dstack((np.genfromtxt('start1.csv', delimiter=','), np.genfromtxt('finish1.csv', delimiter=',')))[0]\n",
    "    times_2 = np.dstack((np.genfromtxt('start2.csv', delimiter=','), np.genfromtxt('finish2.csv', delimiter=',')))[0]\n",
    "    return times_1,times_2"
   ]
  },
  {
   "cell_type": "code",
   "execution_count": 25,
   "metadata": {},
   "outputs": [
    {
     "name": "stdout",
     "output_type": "stream",
     "text": [
      "[6.15   7.3636]\n"
     ]
    }
   ],
   "source": [
    "x,y = data()\n",
    "print(x[3])"
   ]
  },
  {
   "cell_type": "code",
   "execution_count": 57,
   "metadata": {},
   "outputs": [],
   "source": [
    "def sort_by_dep(times):\n",
    "    return np.array(sorted(times, key=lambda times: times[1]))"
   ]
  },
  {
   "cell_type": "code",
   "execution_count": 58,
   "metadata": {},
   "outputs": [],
   "source": [
    "#this function returns an array contains the flights that could not be scheduled\n",
    "def bad_apples(times):\n",
    "    \n",
    "    k=0\n",
    "    bad_apples = []\n",
    "    if (len(times)<2):\n",
    "        return bad_apples\n",
    "    for i in range(1,len(times)):\n",
    "        if (times[k][1]<=times[i][0]):\n",
    "            k = i\n",
    "        else:\n",
    "            bad_apples.append(times[i])\n",
    "            \n",
    "    return bad_apples\n"
   ]
  },
  {
   "cell_type": "code",
   "execution_count": 109,
   "metadata": {},
   "outputs": [],
   "source": [
    "def count_gates(times):\n",
    "    \n",
    "    num_gates = 2\n",
    "    bad_bois = bad_apples(times)\n",
    "    while(len(bad_bois)>1):\n",
    "        bad_bois = bad_apples(bad_bois)\n",
    "        num_gates+=1\n",
    "    return num_gates"
   ]
  },
  {
   "cell_type": "code",
   "execution_count": 110,
   "metadata": {},
   "outputs": [],
   "source": [
    "def question_one():\n",
    "    \n",
    "    #get and format data\n",
    "    time_set_1,time_set_2 = data()\n",
    "    time_set_1 = sort_by_dep(time_set_1)\n",
    "    time_set_2 = sort_by_dep(time_set_2)\n",
    "    min_gates_one = count_gates(time_set_1)\n",
    "    min_gates_two = count_gates(time_set_2)\n",
    "    \n",
    "    print(\"The first set of planes requires\",min_gates_one,\"gates in order to avoid conflicts.\")\n",
    "    print(\"The second set of planes requires\",min_gates_two,\"gates in order to avoid conflicts.\")\n",
    "    \n",
    "    return \n",
    "    "
   ]
  },
  {
   "cell_type": "code",
   "execution_count": 111,
   "metadata": {
    "scrolled": true
   },
   "outputs": [
    {
     "name": "stdout",
     "output_type": "stream",
     "text": [
      "The first set of planes requires 23 gates in order to avoid conflicts.\n",
      "The second set of planes requires 25 gates in order to avoid conflicts.\n"
     ]
    }
   ],
   "source": [
    "question_one()"
   ]
  },
  {
   "cell_type": "code",
   "execution_count": 62,
   "metadata": {},
   "outputs": [],
   "source": [
    "def uniform_rand_generator(upper_bound):\n",
    "    return random.uniform(0,upper_bound)"
   ]
  },
  {
   "cell_type": "code",
   "execution_count": 63,
   "metadata": {},
   "outputs": [],
   "source": [
    "def delay_flights(times,upper_bound,fraction):\n",
    "    \n",
    "    for i in (choose_indeces(fraction,len(times))):\n",
    "        x = uniform_rand_generator(upper_bound)\n",
    "        times[i][0]+=x\n",
    "        \n",
    "    for i in (choose_indeces(fraction,len(times))):\n",
    "        times[i][1]+=uniform_rand_generator(upper_bound)+x\n",
    "    \n",
    "            \n",
    "        \n",
    "    return times"
   ]
  },
  {
   "cell_type": "code",
   "execution_count": 64,
   "metadata": {},
   "outputs": [],
   "source": [
    "def choose_indeces(fraction,length):\n",
    "    return np.random.choice(length, int(fraction*length))"
   ]
  },
  {
   "cell_type": "code",
   "execution_count": 89,
   "metadata": {},
   "outputs": [],
   "source": [
    "def question_2(fraction,upper_bound):    \n",
    "    \n",
    "    time_set_1,time_set_2 = data()\n",
    "    time_set_1 = delay_flights(time_set_1,upper_bound,fraction)\n",
    "    time_set_2 = delay_flights(time_set_2,upper_bound,fraction)\n",
    "    time_set_1 = sort_by_dep(time_set_1)\n",
    "    time_set_2 = sort_by_dep(time_set_2)\n",
    "    \n",
    "    min_gates_one = count_gates(time_set_1)\n",
    "    min_gates_two = count_gates(time_set_2)\n",
    "    \n",
    "    #print(\"The first set of planes with a max delay of\",upper_bound , \"on\",int(fraction*100),\"percent of planes requires\",min_gates_one,\"gates in order to avoid conflict\")\n",
    "    #print(\"The second set of planes with a max delay of\",upper_bound,\"on\",int(fraction*100),\"percent of planes requires\",min_gates_two,\"gates in order to avoid conflict\")\n",
    "    \n",
    "    return min_gates_one, min_gates_two"
   ]
  },
  {
   "cell_type": "code",
   "execution_count": 129,
   "metadata": {
    "scrolled": true
   },
   "outputs": [
    {
     "data": {
      "image/png": "[encoded data removed]",
      "text/plain": [
       "<Figure size 432x288 with 1 Axes>"
      ]
     },
     "metadata": {},
     "output_type": "display_data"
    }
   ],
   "source": [
    "for i in [x * 0.01 for x in range(0, 100)]:\n",
    "    min_gate_one, min_gate_two = question_2(i,1)\n",
    "    plt.scatter(i, min_gate_one, marker='.')\n",
    "    plt.title(\"Fraction delayed vs Minimum number of gates with constant delay range\")\n",
    "    plt.xlabel('Fraction of planes delayed')\n",
    "    plt.ylabel('Minimum muber of gates')\n"
   ]
  },
  {
   "cell_type": "code",
   "execution_count": 128,
   "metadata": {
    "scrolled": true
   },
   "outputs": [
    {
     "data": {
      "image/png": "[encoded data removed]",
      "text/plain": [
       "<Figure size 432x288 with 1 Axes>"
      ]
     },
     "metadata": {},
     "output_type": "display_data"
    }
   ],
   "source": [
    "for i in [x * 0.01 for x in range(0, 100)]:\n",
    "    min_gate_one, min_gate_two = question_2(1,i)\n",
    "    plt.scatter(i, min_gate_one, marker='.')\n",
    "    plt.title(\"Delay vs Minimum number of gates with constant fraction being delayed\")\n",
    "    plt.xlabel('delay in hours')\n",
    "    plt.ylabel('Minimum muber of gates')\n",
    "    \n",
    "    "
   ]
  },
  {
   "cell_type": "code",
   "execution_count": 87,
   "metadata": {
    "scrolled": true
   },
   "outputs": [
    {
     "name": "stdout",
     "output_type": "stream",
     "text": [
      "The first set of planes with a max delay of 80 on 50 percent of planes requires 47 gates in order to avoid conflict\n",
      "The second set of planes with a max delay of 80 on 50 percent of planes requires 50 gates in order to avoid conflict\n"
     ]
    }
   ],
   "source": [
    "x,y = question_2(0.5,80)"
   ]
  },
  {
   "cell_type": "code",
   "execution_count": null,
   "metadata": {},
   "outputs": [],
   "source": []
  },
  {
   "cell_type": "code",
   "execution_count": null,
   "metadata": {},
   "outputs": [],
   "source": []
  }
 ],
 "metadata": {
  "kernelspec": {
   "display_name": "Python 3",
   "language": "python",
   "name": "python3"
  },
  "language_info": {
   "codemirror_mode": {
    "name": "ipython",
    "version": 3
   },
   "file_extension": ".py",
   "mimetype": "text/x-python",
   "name": "python",
   "nbconvert_exporter": "python",
   "pygments_lexer": "ipython3",
   "version": "3.6.5"
  }
 },
 "nbformat": 4,
 "nbformat_minor": 2
}
