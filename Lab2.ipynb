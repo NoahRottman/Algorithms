{
 "cells": [
  {
   "cell_type": "code",
   "execution_count": 1,
   "metadata": {},
   "outputs": [],
   "source": [
    "import math\n",
    "from math import floor\n",
    "#complexity for Question 1 is O(nlogn)\n",
    "#the log(n) comes from the divide and conquer nature of the algorithm\n",
    "#the n comes from doing the loops\n",
    "\n",
    "def max_sub_array(arr,left,right):\n",
    "\n",
    "    if left == right:\n",
    "        return (left, right, arr[left])\n",
    "\n",
    "    mid = (left+right)//2\n",
    "\n",
    "    (leftlow,lefthigh,leftsum) = max_sub_array(arr,left,mid)\n",
    "    (rightlow,righthigh,rightsum) = max_sub_array(arr,mid+1,right)\n",
    "    (midlow,midhigh,midsum) = max_mid_array(arr,left,mid,right)\n",
    "\n",
    "\n",
    "    if (leftsum >= rightsum and leftsum >= midsum):\n",
    "        return (leftlow,lefthigh,leftsum)\n",
    "    elif (rightsum >= leftsum and rightsum >= midsum):\n",
    "        return (rightlow,righthigh,rightsum)\n",
    "    else:\n",
    "        return (midlow,midhigh,midsum)\n",
    "\n",
    "def max_mid_array(arr, left, mid, right):\n",
    "\n",
    "        leftsum = -9999\n",
    "        suml = 0\n",
    "        maxleft = 0\n",
    "        for i in range(mid, left - 1, -1):\n",
    "            suml = suml + arr[i]\n",
    "            if (suml > leftsum):\n",
    "                leftsum = suml\n",
    "                maxleft = i\n",
    "\n",
    "        rightsum = -9999\n",
    "        sumr = 0\n",
    "        maxright = 0\n",
    "        for j in range(mid + 1, right + 1):\n",
    "            sumr = sumr + arr[j]\n",
    "            if (sumr > rightsum):\n",
    "                rightsum = sumr\n",
    "                maxright = j\n",
    "\n",
    "        return (maxleft, maxright, leftsum + rightsum)\n",
    "\n",
    "#To find second largest non overlapping mss I set all values in the first mss\n",
    "#equal to the lowest number in the original array minus 1\n",
    "#another for loop has been added however\n",
    "\n",
    "def second_largest_array(arr,left,right):\n",
    "\n",
    "    min_index,max_index, MAX_sum = max_sub_array(arr,left,right)\n",
    "\n",
    "    if(min_index==0 and max_index==len(arr)-1):\n",
    "        return (\"Previous sub array ate the whole array!\")\n",
    "\n",
    "    min_val= min(arr)-1\n",
    "\n",
    "    for i in range(min_index,max_index+1):\n",
    "        arr[i] = min_val\n",
    "\n",
    "    min_index, max_index, MAX_sum = max_sub_array(arr, left, right)\n",
    "    return(min_index, max_index, MAX_sum)\n",
    "\n",
    "def print_function(arr,left,right):\n",
    "    new_arr= []\n",
    "    for i in range(left,right-1):\n",
    "        new_arr.append(arr[i])\n",
    "\n",
    "    return new_arr\n"
   ]
  },
  {
   "cell_type": "code",
   "execution_count": 13,
   "metadata": {},
   "outputs": [
    {
     "name": "stdout",
     "output_type": "stream",
     "text": [
      "The mss array is: [2, 2, 10, 10, 4, 1, 9, 200, 1000, 4, 4, 4, 4, 2]\n",
      "The sum of this array is: 1263\n",
      " \n"
     ]
    },
    {
     "ename": "ValueError",
     "evalue": "too many values to unpack (expected 3)",
     "output_type": "error",
     "traceback": [
      "\u001b[0;31m---------------------------------------------------------------------------\u001b[0m",
      "\u001b[0;31mValueError\u001b[0m                                Traceback (most recent call last)",
      "\u001b[0;32m<ipython-input-13-697632410b65>\u001b[0m in \u001b[0;36m<module>\u001b[0;34m()\u001b[0m\n\u001b[1;32m      6\u001b[0m \u001b[0msecond_max\u001b[0m \u001b[0;34m=\u001b[0m \u001b[0msecond_largest_array\u001b[0m\u001b[0;34m(\u001b[0m\u001b[0marr\u001b[0m\u001b[0;34m,\u001b[0m\u001b[0;36m0\u001b[0m\u001b[0;34m,\u001b[0m\u001b[0mlen\u001b[0m\u001b[0;34m(\u001b[0m\u001b[0marr\u001b[0m\u001b[0;34m)\u001b[0m\u001b[0;34m-\u001b[0m\u001b[0;36m1\u001b[0m\u001b[0;34m)\u001b[0m\u001b[0;34m\u001b[0m\u001b[0m\n\u001b[1;32m      7\u001b[0m \u001b[0mprint\u001b[0m\u001b[0;34m(\u001b[0m\u001b[0;34m\" \"\u001b[0m\u001b[0;34m)\u001b[0m\u001b[0;34m\u001b[0m\u001b[0m\n\u001b[0;32m----> 8\u001b[0;31m \u001b[0mmin_index_two\u001b[0m\u001b[0;34m,\u001b[0m\u001b[0mmax_index_two\u001b[0m\u001b[0;34m,\u001b[0m \u001b[0mMAX_sum_two\u001b[0m \u001b[0;34m=\u001b[0m \u001b[0msecond_max\u001b[0m\u001b[0;34m\u001b[0m\u001b[0m\n\u001b[0m\u001b[1;32m      9\u001b[0m \u001b[0mprint\u001b[0m\u001b[0;34m(\u001b[0m\u001b[0;34m\"The second mss array is: \"\u001b[0m \u001b[0;34m+\u001b[0m \u001b[0mstr\u001b[0m\u001b[0;34m(\u001b[0m\u001b[0mprint_function\u001b[0m\u001b[0;34m(\u001b[0m\u001b[0marr\u001b[0m\u001b[0;34m,\u001b[0m\u001b[0mmin_index_two\u001b[0m\u001b[0;34m,\u001b[0m\u001b[0mmax_index_two\u001b[0m\u001b[0;34m)\u001b[0m\u001b[0;34m)\u001b[0m\u001b[0;34m)\u001b[0m\u001b[0;34m\u001b[0m\u001b[0m\n\u001b[1;32m     10\u001b[0m \u001b[0mprint\u001b[0m\u001b[0;34m(\u001b[0m\u001b[0;34m\"The sum of this array is: \"\u001b[0m\u001b[0;34m+\u001b[0m \u001b[0mstr\u001b[0m\u001b[0;34m(\u001b[0m\u001b[0mMAX_sum_two\u001b[0m\u001b[0;34m)\u001b[0m\u001b[0;34m)\u001b[0m\u001b[0;34m\u001b[0m\u001b[0m\n",
      "\u001b[0;31mValueError\u001b[0m: too many values to unpack (expected 3)"
     ]
    }
   ],
   "source": [
    "arr = [2,2,10,10,4,1,9,200,1000,4,4,4,4,2,3,4]\n",
    "maxval=max_sub_array(arr,0,len(arr)-1)\n",
    "min_index,max_index, MAX_sum = maxval\n",
    "print(\"The mss array is: \" + str(print_function(arr,min_index,max_index)))\n",
    "print(\"The sum of this array is: \"+ str(MAX_sum))\n",
    "second_max = second_largest_array(arr,0,len(arr)-1)\n",
    "print(\" \")\n",
    "min_index_two,max_index_two, MAX_sum_two = second_max\n",
    "print(\"The second mss array is: \" + str(print_function(arr,min_index_two,max_index_two)))\n",
    "print(\"The sum of this array is: \"+ str(MAX_sum_two))\n"
   ]
  },
  {
   "cell_type": "code",
   "execution_count": null,
   "metadata": {},
   "outputs": [],
   "source": []
  },
  {
   "cell_type": "code",
   "execution_count": null,
   "metadata": {},
   "outputs": [],
   "source": []
  }
 ],
 "metadata": {
  "kernelspec": {
   "display_name": "Python 3",
   "language": "python",
   "name": "python3"
  },
  "language_info": {
   "codemirror_mode": {
    "name": "ipython",
    "version": 3
   },
   "file_extension": ".py",
   "mimetype": "text/x-python",
   "name": "python",
   "nbconvert_exporter": "python",
   "pygments_lexer": "ipython3",
   "version": "3.6.5"
  }
 },
 "nbformat": 4,
 "nbformat_minor": 2
}
