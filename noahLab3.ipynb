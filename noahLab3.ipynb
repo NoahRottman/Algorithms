{
 "cells": [
  {
   "cell_type": "code",
   "execution_count": 434,
   "metadata": {},
   "outputs": [],
   "source": [
    "import numpy as np\n",
    "import matplotlib.pyplot as plt\n",
    "import math\n",
    "import random"
   ]
  },
  {
   "cell_type": "code",
   "execution_count": 435,
   "metadata": {},
   "outputs": [],
   "source": [
    "#This function accepts the size of the array \n",
    "# to be generated and returns an array of \n",
    "# that size, populated by uniformly distributed random integers\n",
    "\n",
    "def generate_list(size):\n",
    "    rand_list = [{\"x\":np.random.uniform(-100,100),\"y\": np.random.uniform(-100,100),\"angle\": -1} for i in range(size)]\n",
    "    return rand_list"
   ]
  },
  {
   "cell_type": "code",
   "execution_count": 436,
   "metadata": {},
   "outputs": [],
   "source": [
    "#find the point with the lowest y value\n",
    "def find_lowest(List):\n",
    "    i = len(List)\n",
    "    cur_min = List[0][\"y\"]\n",
    "    index=0\n",
    "    for i in range (len(List)):\n",
    "        if(List[i][\"y\"]<cur_min):\n",
    "            cur_min = List[i][\"y\"]\n",
    "            index = i\n",
    "    return index"
   ]
  },
  {
   "cell_type": "code",
   "execution_count": 437,
   "metadata": {},
   "outputs": [],
   "source": [
    "#find the polar angle between a given point and the base point\n",
    "def find_polar_angle(x,y,base):\n",
    "    angle = math.degrees(math.atan2(y-base[\"y\"], x-base[\"x\"]))\n",
    "    if (angle<0):\n",
    "        angle = angle + 360\n",
    "    \n",
    "    return angle"
   ]
  },
  {
   "cell_type": "code",
   "execution_count": 657,
   "metadata": {},
   "outputs": [],
   "source": [
    "#this function accepts a list and sorts it based on the angle key\n",
    "def sort_by_angle(List):\n",
    "    return sorted(List,key = lambda x:x[\"angle\"])\n",
    "        "
   ]
  },
  {
   "cell_type": "code",
   "execution_count": 439,
   "metadata": {},
   "outputs": [],
   "source": [
    "#this class sets up the stack for use in this code\n",
    "class Stack:\n",
    "    def __init__(self):\n",
    "        self.items = []\n",
    "\n",
    "    def is_empty(self):\n",
    "        return self.items == []\n",
    "\n",
    "    def push(self, item):\n",
    "        return self.items.append(item)\n",
    "\n",
    "    def pop(self):\n",
    "        return self.items.pop()"
   ]
  },
  {
   "cell_type": "code",
   "execution_count": 440,
   "metadata": {
    "scrolled": true
   },
   "outputs": [],
   "source": [
    "#accepts size - number of total points to be generated\n",
    "#this function is used in question 1 to produce the convex hull\n",
    "#it returns the coordinates of the convex hull and the original unsorted list\n",
    "def graham_scan(size):\n",
    "    ranlist = generate_list(size)\n",
    "    unsorted_list = ranlist\n",
    "    min_index = find_lowest(ranlist)\n",
    "\n",
    "    for i in range(len(ranlist)):\n",
    "        ranlist[i][\"angle\"] = find_polar_angle(ranlist[i][\"x\"], ranlist[i][\"y\"], ranlist[min_index])\n",
    "    \n",
    "    ranlist = sort_by_angle(ranlist)\n",
    "    \n",
    "    #NOTE: the lowest point based on angle will be the base point\n",
    "    stack=Stack()\n",
    "    stack.push(ranlist[0])\n",
    "    stack.push(ranlist[1])\n",
    "    stack.push(ranlist[2])\n",
    "    highest=2\n",
    "\n",
    "    #the following block determines the convex hull!\n",
    "    for i in range(2,len(ranlist)):\n",
    "        while(find_polar_angle(stack.items[highest]['x'], stack.items[highest]['y'], stack.items[highest-1]) > find_polar_angle(ranlist[i]['x'], ranlist[i]['y'], stack.items[highest])):\n",
    "            stack.pop()\n",
    "            highest = highest-1\n",
    "        stack.push(ranlist[i])\n",
    "        highest = highest+1\n",
    "        \n",
    "    vertices = stack.items\n",
    "    return vertices,unsorted_list"
   ]
  },
  {
   "cell_type": "code",
   "execution_count": 676,
   "metadata": {},
   "outputs": [],
   "source": [
    "#this is question one\n",
    "def question_one():\n",
    "    num_hull_points = []\n",
    "    num_total_points = []\n",
    "    ratio = []\n",
    "    \n",
    "    #run graham scan for multiple amounts of total points\n",
    "    for i in range (5,1000):\n",
    "        num_total_points.append(i)\n",
    "        num_hull_points.append(len(graham_scan(i)[0]))\n",
    "        ratio.append(len(graham_scan(i)[0])/i)\n",
    "        \n",
    "    #plot the ratio relative to the number of total points\n",
    "    plt.scatter(num_total_points, ratio, marker='.')\n",
    "    title = 'Ratio of size of hull vs. number of Uniformly distributed Points'\n",
    "    plt.title(title)\n",
    "    plt.xlabel('Total Number of Points')\n",
    "    plt.ylabel('Ratio of Hull Size to Total points')\n",
    "    \n",
    "    #plot hull size relative to the number of total points\n",
    "    plt.scatter(num_total_points, num_hull_points, marker='.')\n",
    "    title = 'Size of hull vs. number of Uniformly distributed Points'\n",
    "    plt.title(title)\n",
    "    plt.xlabel('Total Number of Points')\n",
    "    plt.ylabel('Size of hull')\n",
    "    \n",
    "    \n",
    "    return \n",
    "        "
   ]
  },
  {
   "cell_type": "code",
   "execution_count": 677,
   "metadata": {},
   "outputs": [
    {
     "data": {
      "image/png": "[encoded data removed]",
      "text/plain": [
       "<Figure size 432x288 with 1 Axes>"
      ]
     },
     "metadata": {},
     "output_type": "display_data"
    }
   ],
   "source": [
    "question_one()"
   ]
  },
  {
   "cell_type": "code",
   "execution_count": 658,
   "metadata": {},
   "outputs": [],
   "source": [
    "#This function accepts the size of the array \n",
    "# to be generated and returns an array of \n",
    "# that size, populated by normally distributed random integers\n",
    "def generate_listQ2(size):\n",
    "    rand_list = [{\"x\":np.random.normal(-100,100),\"y\": np.random.normal(-100,100),\"angle\": -1} for i in range(size)]\n",
    "    return rand_list"
   ]
  },
  {
   "cell_type": "code",
   "execution_count": 660,
   "metadata": {},
   "outputs": [],
   "source": [
    "#this is the graham scan function as used in question one \n",
    "# with modification for question 2\n",
    "#that is it simply used the normal distribution function\n",
    "#rather than the uniform one\n",
    "\n",
    "def graham_scanQ2(size):\n",
    "    size = 100\n",
    "    ranlist = generate_listQ2(size)\n",
    "    unsorted_list = ranlist\n",
    "    min_index = find_lowest(ranlist)\n",
    "\n",
    "    for i in range(len(ranlist)):\n",
    "        ranlist[i][\"angle\"] = find_polar_angle(ranlist[i][\"x\"], ranlist[i][\"y\"], ranlist[min_index])\n",
    "    \n",
    "    ranlist = sort_by_angle(ranlist)\n",
    "    \n",
    "    #NOTE: the lowest point based on angle will be the base point\n",
    "    stack=Stack()\n",
    "    stack.push(ranlist[0])\n",
    "    stack.push(ranlist[1])\n",
    "    stack.push(ranlist[2])\n",
    "    highest=2\n",
    "    \n",
    "    #the following block determines the convex hull!\n",
    "    for i in range(2,len(ranlist)):\n",
    "        while(find_polar_angle(stack.items[highest]['x'], stack.items[highest]['y'], stack.items[highest-1]) > find_polar_angle(ranlist[i]['x'], ranlist[i]['y'], stack.items[highest])):\n",
    "            stack.pop()\n",
    "            highest = highest-1\n",
    "        stack.push(ranlist[i])\n",
    "        highest = highest+1\n",
    "        \n",
    "    vertices = stack.items\n",
    "    return (vertices,ranlist)"
   ]
  },
  {
   "cell_type": "code",
   "execution_count": 680,
   "metadata": {},
   "outputs": [],
   "source": [
    "#function for question two\n",
    "def question_two():\n",
    "    num_hull_points = []\n",
    "    num_total_points = []\n",
    "    ratio = []\n",
    "    \n",
    "    #run graham scan for multiple amounts of total points\n",
    "    for i in range (5,1000):\n",
    "        num_total_points.append(i)\n",
    "        num_hull_points.append(len(graham_scanQ2(i)[0]))\n",
    "        ratio.append(len(graham_scanQ2(i)[0])/i)\n",
    "\n",
    "    #plot the ratio relative to the number of total points\n",
    "    plt.scatter(num_total_points, ratio, marker='.')\n",
    "    title = 'Ratio of size of hull to total Normally distributed Points'\n",
    "    plt.title(title)\n",
    "    plt.xlabel('Total Number of Points')\n",
    "    plt.ylabel('Ratio of Hull Size to Total points')\n",
    "    \n",
    "\n",
    "    \n",
    "    \n",
    "    return "
   ]
  },
  {
   "cell_type": "code",
   "execution_count": 681,
   "metadata": {},
   "outputs": [
    {
     "data": {
      "image/png": "[encoded data removed]",
      "text/plain": [
       "<Figure size 432x288 with 1 Axes>"
      ]
     },
     "metadata": {},
     "output_type": "display_data"
    }
   ],
   "source": [
    "question_two()"
   ]
  },
  {
   "cell_type": "code",
   "execution_count": 682,
   "metadata": {},
   "outputs": [],
   "source": [
    "#this function accepts the size of the list to be created \n",
    "#and where it is to be centered and generates a uniformly\n",
    "#random list centered at the accepted center value\n",
    "def generate_listQ3(size,center):\n",
    "    rand_list = [{\"x\":np.random.uniform(center-100,center+100),\"y\": np.random.uniform(center-100,center+100),\"angle\": -1} for i in range(size)]\n",
    "    return rand_list"
   ]
  },
  {
   "cell_type": "code",
   "execution_count": 683,
   "metadata": {},
   "outputs": [],
   "source": [
    "#graham scan for question 3 \n",
    "def graham_scanQ3(size,center):\n",
    "    ranlist = generate_listQ3(size,center)\n",
    "    unsorted_list = ranlist\n",
    "    min_index = find_lowest(ranlist)\n",
    "\n",
    "    for i in range(len(ranlist)):\n",
    "        ranlist[i][\"angle\"] = find_polar_angle(ranlist[i][\"x\"], ranlist[i][\"y\"], ranlist[min_index])\n",
    "    \n",
    "    ranlist = sort_by_angle(ranlist)\n",
    "    \n",
    "    #the following block determines the convex hull!\n",
    "    #NOTE: the lowest point based on angle will be the base point\n",
    "    stack=Stack()\n",
    "    stack.push(ranlist[0])\n",
    "    stack.push(ranlist[1])\n",
    "    stack.push(ranlist[2])\n",
    "    highest=2\n",
    "\n",
    "    for i in range(2,len(ranlist)):\n",
    "        while(find_polar_angle(stack.items[highest]['x'], stack.items[highest]['y'], stack.items[highest-1]) > find_polar_angle(ranlist[i]['x'], ranlist[i]['y'], stack.items[highest])):\n",
    "            stack.pop()\n",
    "            highest = highest-1\n",
    "        stack.push(ranlist[i])\n",
    "        highest = highest+1\n",
    "        \n",
    "    vertices = stack.items\n",
    "    return vertices,unsorted_list"
   ]
  },
  {
   "cell_type": "code",
   "execution_count": 694,
   "metadata": {},
   "outputs": [],
   "source": [
    "#function for question three\n",
    "def question_three():\n",
    "    num_hull_points = []\n",
    "    num_total_points = []\n",
    "    ratio = []\n",
    "    \n",
    "    hull_one, rand_set_one = graham_scanQ3(100,0)\n",
    "    hull_two, rand_set_two = graham_scanQ3(100,200)\n",
    "    \n",
    "    #the following block of code simply plots the convex hulls\n",
    " \n",
    "    mid_x_one = 0\n",
    "    mid_x_two = 0\n",
    "    mid_y_one = 0\n",
    "    mid_y_two = 0\n",
    "    \n",
    "    fig = plt.figure()\n",
    "    ax = fig.add_subplot(1, 1, 1)\n",
    "    \n",
    "    for i in range(len(hull_one)):\n",
    "        mid_x_one = mid_x_one + hull_one[i][\"x\"]\n",
    "        mid_y_one = mid_y_one + hull_one[i][\"y\"]\n",
    "        plt.scatter(hull_one[i][\"x\"],hull_one[i][\"y\"], marker='x', color = 'red')\n",
    "        title = 'Size of Convex Hull with Uniformly distributed Points'\n",
    "        plt.title(title)\n",
    "        plt.xlabel('Total Number of Points')\n",
    "        plt.ylabel('Convex Hull Size')\n",
    "        \n",
    "    for i in range(len(hull_two)):   \n",
    "        mid_x_two = mid_x_two + hull_two[i][\"x\"]\n",
    "        mid_y_two = mid_y_two + hull_two[i][\"y\"]\n",
    "        plt.scatter(hull_two[i][\"x\"],hull_two[i][\"y\"], marker='x', color = 'blue')\n",
    "        title = 'Size of Convex Hull with Uniformly distributed Points'\n",
    "        plt.title(title)\n",
    "        plt.xlabel('Total Number of Points')\n",
    "        plt.ylabel('Convex Hull Size')\n",
    "    \n",
    "    #determining the middle of the circles\n",
    "    mid_one = (mid_x_one/len(hull_one),mid_y_one/len(hull_one))\n",
    "    mid_two = (mid_x_two/len(hull_two),mid_y_two/len(hull_two))\n",
    "    \n",
    "    #finding the largest distance from the centre\n",
    "    #to a point on the hull\n",
    "    \n",
    "    dist_one = 0\n",
    "    dist_two = 0\n",
    "    for i in range(len(hull_one)):\n",
    "        if(dist_one<find_dist(mid_one[0],mid_one[1],hull_one[i])):\n",
    "            dist_one = find_dist(mid_one[0],mid_one[1],hull_one[i])\n",
    "            \n",
    "    for i in range(len(hull_two)):\n",
    "        if(dist_two<find_dist(mid_two[0],mid_two[1],hull_two[i])):\n",
    "            dist_two = find_dist(mid_two[0],mid_two[1],hull_two[i])\n",
    "\n",
    "    #plot the circles\n",
    "    c_1 = plt.Circle((mid_one[0], mid_one[1]), radius=dist_one, color='m', fill=False)\n",
    "    c_2 = plt.Circle((mid_two[0], mid_two[1]), radius=dist_two, color='c', fill=False)\n",
    "    ax.add_patch(c_1)\n",
    "    ax.add_patch(c_2)\n",
    "    plt.axis('scaled')\n",
    "    plt.show()\n",
    "    #check intersection\n",
    "    if abs(dist_one + dist_two) >= math.sqrt((mid_one[0] - mid_two[0])**2 + (mid_one[1] - mid_two[1])**2):\n",
    "        print('The circles intersect, this means the hulls MIGHT too!')\n",
    "    else:\n",
    "        print(\"The hulls do not intersect!\")\n",
    "    return "
   ]
  },
  {
   "cell_type": "code",
   "execution_count": 695,
   "metadata": {
    "scrolled": true
   },
   "outputs": [
    {
     "data": {
      "image/png": "[encoded data removed]",
      "text/plain": [
       "<Figure size 432x288 with 1 Axes>"
      ]
     },
     "metadata": {},
     "output_type": "display_data"
    },
    {
     "name": "stdout",
     "output_type": "stream",
     "text": [
      "The circles intersect, this means the hulls MIGHT too!\n"
     ]
    }
   ],
   "source": [
    "question_three()"
   ]
  },
  {
   "cell_type": "code",
   "execution_count": 632,
   "metadata": {},
   "outputs": [],
   "source": [
    "#find the distance between a given point and the base point\n",
    "def find_dist(x,y,base):\n",
    "    dist = math.sqrt((x-base[\"x\"])**2 + (y-base[\"y\"])**2)\n",
    "    return dist"
   ]
  },
  {
   "cell_type": "code",
   "execution_count": null,
   "metadata": {},
   "outputs": [],
   "source": []
  }
 ],
 "metadata": {
  "kernelspec": {
   "display_name": "Python 3",
   "language": "python",
   "name": "python3"
  },
  "language_info": {
   "codemirror_mode": {
    "name": "ipython",
    "version": 3
   },
   "file_extension": ".py",
   "mimetype": "text/x-python",
   "name": "python",
   "nbconvert_exporter": "python",
   "pygments_lexer": "ipython3",
   "version": "3.6.5"
  }
 },
 "nbformat": 4,
 "nbformat_minor": 2
}
